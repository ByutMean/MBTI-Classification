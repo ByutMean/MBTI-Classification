{
 "cells": [
  {
   "cell_type": "code",
   "execution_count": null,
   "metadata": {
    "colab": {
     "base_uri": "https://localhost:8080/"
    },
    "executionInfo": {
     "elapsed": 10281,
     "status": "ok",
     "timestamp": 1653490112696,
     "user": {
      "displayName": "박재민, ITM전공(학부)",
      "userId": "16505836461336102469"
     },
     "user_tz": -540
    },
    "id": "Q4AdPC8qvmz-",
    "outputId": "97ab96e7-cbe0-43a5-f338-256ad64f8281"
   },
   "outputs": [
    {
     "name": "stdout",
     "output_type": "stream",
     "text": [
      "Drive already mounted at /content/drive; to attempt to forcibly remount, call drive.mount(\"/content/drive\", force_remount=True).\n"
     ]
    }
   ],
   "source": [
    "from google.colab import drive\n",
    "drive.mount('/content/drive')"
   ]
  },
  {
   "cell_type": "code",
   "execution_count": 7,
   "metadata": {
    "colab": {
     "base_uri": "https://localhost:8080/"
    },
    "executionInfo": {
     "elapsed": 7961,
     "status": "ok",
     "timestamp": 1653531795136,
     "user": {
      "displayName": "박재민, ITM전공(학부)",
      "userId": "16505836461336102469"
     },
     "user_tz": -540
    },
    "id": "ycybIl3AkDt8",
    "outputId": "b49a70fe-ac97-42a6-f4c2-c6fd6ff4df32"
   },
   "outputs": [
    {
     "name": "stdout",
     "output_type": "stream",
     "text": [
      "cpu와 cuda 중 다음 기기로 학습함: cpu\n"
     ]
    }
   ],
   "source": [
    "import os\n",
    "import torch\n",
    "import torch.nn as nn\n",
    "import torch.nn.functional as F\n",
    "import random\n",
    "import pandas as pd\n",
    "\n",
    "\n",
    "EI_df = pd.read_csv('./MBTI_SN.csv')\n",
    "#PJ_df = pd.read_csv('/content/drive/MyDrive/4-1/인공신경망과 딥러닝/팀플/dataset/MBTI_PJ.csv')\n",
    "#SN_df = pd.read_csv('/content/drive/MyDrive/4-1/인공신경망과 딥러닝/팀플/dataset/MBTI_SN.csv')\n",
    "#TF_df = pd.read_csv('/content/drive/MyDrive/4-1/인공신경망과 딥러닝/팀플/dataset/MBTI_TF.csv')\n",
    "EI_df.head(10)\n",
    "\n",
    "\n",
    "SEED = 5\n",
    "random.seed(SEED)\n",
    "torch.manual_seed(SEED)\n",
    "\n",
    "BATCH_SIZE = 64\n",
    "lr = 0.001\n",
    "EPOCHS = 10\n",
    "\n",
    "USE_CUDA = torch.cuda.is_available()\n",
    "DEVICE = torch.device(\"cuda\" if USE_CUDA else \"cpu\")\n",
    "print(\"cpu와 cuda 중 다음 기기로 학습함:\", DEVICE)"
   ]
  },
  {
   "cell_type": "code",
   "execution_count": 8,
   "metadata": {
    "executionInfo": {
     "elapsed": 38907,
     "status": "ok",
     "timestamp": 1653531836098,
     "user": {
      "displayName": "박재민, ITM전공(학부)",
      "userId": "16505836461336102469"
     },
     "user_tz": -540
    },
    "id": "3pczUtRawQ7G"
   },
   "outputs": [],
   "source": [
    "from sklearn.model_selection import train_test_split\n",
    "\n",
    "value_list=[]\n",
    "for i in EI_df.wordvalue:\n",
    "    ss=i.strip(\"'[\").strip(\"]'\").split(\", \")\n",
    "    sss=[]\n",
    "    for j in ss:\n",
    "        sss.append(int(j))\n",
    "    value_list.append(sss)\n",
    "\n",
    "X = torch.tensor(value_list)\n",
    "y = torch.tensor(EI_df['type'].values)\n",
    "\n",
    "X_train, X_test, y_train, y_test = train_test_split(X, y, test_size = 0.4, random_state=42)\n",
    "X_val, X_test, y_val, y_test = train_test_split(X_test, y_test, test_size = 0.5, random_state=42)"
   ]
  },
  {
   "cell_type": "code",
   "execution_count": 9,
   "metadata": {},
   "outputs": [
    {
     "data": {
      "text/plain": [
       "Text(0.5, 1.0, 'Count of types')"
      ]
     },
     "execution_count": 9,
     "metadata": {},
     "output_type": "execute_result"
    },
    {
     "data": {
      "image/png": "[encoded data removed]",
      "text/plain": [
       "<Figure size 648x360 with 1 Axes>"
      ]
     },
     "metadata": {
      "needs_background": "light"
     },
     "output_type": "display_data"
    }
   ],
   "source": [
    "import numpy as np\n",
    "import matplotlib.pyplot as plt\n",
    "\n",
    "unique_labels, count = np.unique(EI_df['type'], return_counts=True)\n",
    "fig = plt.figure(figsize=(9,5))\n",
    "plt.xticks(np.arange(0,2,1))\n",
    "plt.bar(unique_labels, count, width=0.8)\n",
    "plt.title(\"Count of types\")"
   ]
  },
  {
   "cell_type": "code",
   "execution_count": 10,
   "metadata": {
    "executionInfo": {
     "elapsed": 422,
     "status": "ok",
     "timestamp": 1653531840083,
     "user": {
      "displayName": "박재민, ITM전공(학부)",
      "userId": "16505836461336102469"
     },
     "user_tz": -540
    },
    "id": "JOwlF1C-eObs"
   },
   "outputs": [],
   "source": [
    "from torch.utils.data import TensorDataset # 텐서데이터셋\n",
    "from torch.utils.data import DataLoader # 데이터로더\n",
    "\n",
    "train_dataset = TensorDataset(X_train, y_train)\n",
    "train_dataloader = DataLoader(train_dataset, batch_size=BATCH_SIZE,  shuffle=True)\n",
    "\n",
    "val_dataset = TensorDataset(X_val, y_val)\n",
    "val_dataloader = DataLoader(val_dataset, batch_size=BATCH_SIZE,  shuffle=True)\n",
    "\n",
    "test_dataset = TensorDataset(X_test, y_test)\n",
    "test_dataloader = DataLoader(test_dataset, batch_size=int(X_test.size()[0]/10),  shuffle=True)"
   ]
  },
  {
   "cell_type": "code",
   "execution_count": 11,
   "metadata": {
    "executionInfo": {
     "elapsed": 480,
     "status": "ok",
     "timestamp": 1653531843675,
     "user": {
      "displayName": "박재민, ITM전공(학부)",
      "userId": "16505836461336102469"
     },
     "user_tz": -540
    },
    "id": "yRFhMbclGQ0a"
   },
   "outputs": [],
   "source": [
    "class GRU(nn.Module):\n",
    "    def __init__(self, input_dim, embedding_dim, hidden_dim, output_dim,dropout_p):\n",
    "        super(GRU, self).__init__()\n",
    "        self.n_layers = 1\n",
    "        self.embedding = nn.Embedding(input_dim, embedding_dim)\n",
    "        self.dropout = nn.Dropout(dropout_p)\n",
    "        self.gru = nn.GRU(embedding_dim, hidden_dim,\n",
    "                          batch_first=True)\n",
    "        self.out = nn.Linear(hidden_dim, output_dim)\n",
    "        self.hidden_dim = hidden_dim\n",
    "        self.sigmoid = nn.Sigmoid()\n",
    "\n",
    "    def forward(self, x):\n",
    "\n",
    "        x = self.embedding(x)\n",
    "\n",
    "        h_0 = self._init_state(batch_size=x.size(0)) # 첫번째 히든 스테이트를 0벡터로 초기화\n",
    "\n",
    "        x, _ = self.gru(x, h_0)  # GRU의 리턴값은 (배치 크기, 시퀀스 길이, 은닉 상태의 크기)\n",
    "\n",
    "        h_t = x[:,-1,:] # (배치 크기, 은닉 상태의 크기)의 텐서로 크기가 변경됨. 즉, 마지막 time-step의 은닉 상태만 가져온다.\n",
    "        self.dropout(h_t)\n",
    "        logit = self.out(h_t)  # (배치 크기, 은닉 상태의 크기) -> (배치 크기, 출력층의 크기)\n",
    "        return self.sigmoid(logit)\n",
    "\n",
    "    def _init_state(self, batch_size=1):\n",
    "        weight = next(self.parameters()).data\n",
    "        return weight.new(self.n_layers, batch_size, self.hidden_dim).zero_()\n"
   ]
  },
  {
   "cell_type": "code",
   "execution_count": 20,
   "metadata": {
    "executionInfo": {
     "elapsed": 413,
     "status": "ok",
     "timestamp": 1653531847312,
     "user": {
      "displayName": "박재민, ITM전공(학부)",
      "userId": "16505836461336102469"
     },
     "user_tz": -540
    },
    "id": "QKDkh3MsKhNb"
   },
   "outputs": [],
   "source": [
    "INPUT_DIM = 3771 \n",
    "EMBEDDING_DIM = 100\n",
    "HIDDEN_DIM = 256\n",
    "OUTPUT_DIM = 1\n",
    "DROPOUT_PROB = 0.2\n",
    "\n",
    "model = GRU(INPUT_DIM, EMBEDDING_DIM, HIDDEN_DIM, OUTPUT_DIM, DROPOUT_PROB)\n",
    "optimizer = torch.optim.Adam(model.parameters(), lr=lr)\n",
    "\n"
   ]
  },
  {
   "cell_type": "code",
   "execution_count": 18,
   "metadata": {
    "executionInfo": {
     "elapsed": 420,
     "status": "ok",
     "timestamp": 1653531950865,
     "user": {
      "displayName": "박재민, ITM전공(학부)",
      "userId": "16505836461336102469"
     },
     "user_tz": -540
    },
    "id": "RELxwEPtKk6k"
   },
   "outputs": [],
   "source": [
    "loss_list = []\n",
    "def binary_accuracy(preds, y):\n",
    "\n",
    "  rounded_preds = torch.round(torch.sigmoid(preds))\n",
    "  # rounded_preds : [batch size]\n",
    "  # y : batch.label\n",
    "  correct = (rounded_preds == y).float() ## 여기 argmax 바꼈습니다\n",
    "  acc = correct.sum() / len(correct)\n",
    "  return acc\n",
    "\n",
    "def train(model, optimizer, train_iter):\n",
    "    model.train()\n",
    "    for b, batch in enumerate(train_iter):\n",
    "        x, y = batch\n",
    "        optimizer.zero_grad()\n",
    "        y = y.squeeze(0)\n",
    "        logit = model(x)\n",
    "        y = y.unsqueeze(1)\n",
    "        #loss = F.cross_entropy(logit, y)\n",
    "        loss = F.binary_cross_entropy(logit,y.float())\n",
    "        loss.backward()\n",
    "        if(b%100==0):\n",
    "          print(\"batch-\", b, \" loss-\" , loss.item())\n",
    "          loss_list.append(loss)\n",
    "        optimizer.step()\n",
    "\n",
    "\n",
    "def evaluate(model, val_iter):\n",
    "    \"\"\"evaluate model\"\"\"\n",
    "    model.eval()\n",
    "    corrects, total_loss = 0, 0\n",
    "    for batch in val_iter:\n",
    "        x, y = batch\n",
    "        y = y.squeeze(0)\n",
    "        logit = model(x)\n",
    "        y = y.unsqueeze(1)\n",
    "        #loss = F.cross_entropy(logit, y, reduction='sum')\n",
    "        loss = F.binary_cross_entropy(logit,y.float())\n",
    "        total_loss += loss.item()\n",
    "        corrects +=  binary_accuracy(logit, y.float())\n",
    "    size = len(val_iter.dataset)\n",
    "    avg_loss = total_loss / size\n",
    "    avg_accuracy = 100.0 * corrects / size\n",
    "    return avg_loss, avg_accuracy"
   ]
  },
  {
   "cell_type": "code",
   "execution_count": 21,
   "metadata": {
    "colab": {
     "base_uri": "https://localhost:8080/"
    },
    "id": "UXG_XTghKsLc",
    "outputId": "30ea532a-db51-426a-aff6-115f5cd4bcf6"
   },
   "outputs": [
    {
     "name": "stdout",
     "output_type": "stream",
     "text": [
      "batch- 0  loss- 0.6681513786315918\n",
      "batch- 100  loss- 0.34557855129241943\n",
      "batch- 200  loss- 0.24776770174503326\n",
      "batch- 300  loss- 0.31139108538627625\n",
      "batch- 400  loss- 0.3586185574531555\n",
      "batch- 500  loss- 0.18805338442325592\n",
      "batch- 600  loss- 0.20450712740421295\n",
      "batch- 700  loss- 0.20219655334949493\n",
      "batch- 800  loss- 0.17784422636032104\n",
      "batch- 900  loss- 0.08412208408117294\n",
      "[Epoch: 1] val loss :  0.00 | val accuracy :  1.43\n",
      "Epoch: 01 | Epoch Time: 32m 1s\n",
      "batch- 0  loss- 0.10250893980264664\n",
      "batch- 100  loss- 0.09967225044965744\n",
      "batch- 200  loss- 0.1628405600786209\n",
      "batch- 300  loss- 0.1339872032403946\n",
      "batch- 400  loss- 0.12759986519813538\n",
      "batch- 500  loss- 0.05510621517896652\n",
      "batch- 600  loss- 0.1278878003358841\n",
      "batch- 700  loss- 0.2563250660896301\n",
      "batch- 800  loss- 0.2457009106874466\n",
      "batch- 900  loss- 0.15235097706317902\n",
      "[Epoch: 2] val loss :  0.00 | val accuracy :  1.43\n",
      "Epoch: 02 | Epoch Time: 22m 10s\n",
      "batch- 0  loss- 0.04117222875356674\n",
      "batch- 100  loss- 0.0812910720705986\n",
      "batch- 200  loss- 0.1722128540277481\n",
      "batch- 300  loss- 0.09198231995105743\n",
      "batch- 400  loss- 0.14463850855827332\n",
      "batch- 500  loss- 0.04980526491999626\n",
      "batch- 600  loss- 0.06648729741573334\n",
      "batch- 700  loss- 0.07954497635364532\n",
      "batch- 800  loss- 0.14796872437000275\n",
      "batch- 900  loss- 0.10182106494903564\n",
      "[Epoch: 3] val loss :  0.00 | val accuracy :  1.43\n",
      "Epoch: 03 | Epoch Time: 23m 23s\n",
      "batch- 0  loss- 0.09686645120382309\n",
      "batch- 100  loss- 0.09149927645921707\n",
      "batch- 200  loss- 0.16114744544029236\n",
      "batch- 300  loss- 0.24900971353054047\n",
      "batch- 400  loss- 0.16466745734214783\n",
      "batch- 500  loss- 0.10899618268013\n",
      "batch- 600  loss- 0.034368038177490234\n",
      "batch- 700  loss- 0.06545543670654297\n",
      "batch- 800  loss- 0.12530569732189178\n",
      "batch- 900  loss- 0.012628902681171894\n",
      "[Epoch: 4] val loss :  0.00 | val accuracy :  1.43\n",
      "Epoch: 04 | Epoch Time: 24m 30s\n",
      "batch- 0  loss- 0.021727504208683968\n",
      "batch- 100  loss- 0.003009021282196045\n",
      "batch- 200  loss- 0.01154564879834652\n",
      "batch- 300  loss- 0.010568049736320972\n",
      "batch- 400  loss- 0.001563648460432887\n",
      "batch- 500  loss- 0.015186037868261337\n",
      "batch- 600  loss- 0.22495630383491516\n",
      "batch- 700  loss- 0.0271823238581419\n",
      "batch- 800  loss- 0.046704426407814026\n",
      "batch- 900  loss- 0.04364616423845291\n",
      "[Epoch: 5] val loss :  0.00 | val accuracy :  1.43\n",
      "Epoch: 05 | Epoch Time: 23m 32s\n"
     ]
    }
   ],
   "source": [
    "import time\n",
    "def epoch_time(start_time, end_time):\n",
    "  elapsed_time = end_time - start_time\n",
    "  elapsed_mins = int(elapsed_time / 60)\n",
    "  elapsed_secs = int(elapsed_time - (elapsed_mins * 60))\n",
    "  return elapsed_mins, elapsed_secs\n",
    "\n",
    "best_val_loss = None\n",
    "for e in range(1, 6):\n",
    "\n",
    "    start_time = time.time()\n",
    "    \n",
    "\n",
    "    train(model, optimizer, train_dataloader)\n",
    "    val_loss, val_accuracy = evaluate(model, val_dataloader)\n",
    "\n",
    "    end_time = time.time()\n",
    "    epoch_mins, epoch_secs = epoch_time(start_time, end_time)\n",
    "\n",
    "    print(\"[Epoch: %d] val loss : %5.2f | val accuracy : %5.2f\" % (e, val_loss, val_accuracy))\n",
    "    print(f'Epoch: {e:02} | Epoch Time: {epoch_mins}m {epoch_secs}s')\n",
    "\n",
    "    # 검증 오차가 가장 적은 최적의 모델을 저장\n",
    "    if not best_val_loss or val_loss < best_val_loss:\n",
    "        if not os.path.isdir(\"snapshot\"):\n",
    "            os.makedirs(\"snapshot\")\n",
    "        torch.save(model.state_dict(), './snapshot/txtclassification.pt')\n",
    "        best_val_loss = val_loss\n",
    "\n",
    "best_valid_loss = float('inf')"
   ]
  },
  {
   "cell_type": "code",
   "execution_count": 30,
   "metadata": {},
   "outputs": [
    {
     "data": {
      "text/plain": [
       "[<matplotlib.lines.Line2D at 0x22256f853a0>]"
      ]
     },
     "execution_count": 30,
     "metadata": {},
     "output_type": "execute_result"
    },
    {
     "data": {
      "image/png": "[encoded data removed]",
      "text/plain": [
       "<Figure size 432x288 with 1 Axes>"
      ]
     },
     "metadata": {
      "needs_background": "light"
     },
     "output_type": "display_data"
    }
   ],
   "source": [
    "from matplotlib import pyplot as plt\n",
    "from scipy.ndimage import gaussian_filter1d\n",
    "a = []\n",
    "for i in loss_list:\n",
    "    a.append(i.detach().numpy())\n",
    "a = np.array(a)\n",
    "a = a.astype(float)\n",
    "y_smoothed = gaussian_filter1d(a, sigma=3)\n",
    "plt.plot(np.arange(51),y_smoothed)"
   ]
  },
  {
   "cell_type": "code",
   "execution_count": 15,
   "metadata": {
    "id": "-0tRsArZ-sRE"
   },
   "outputs": [
    {
     "name": "stdout",
     "output_type": "stream",
     "text": [
      "              precision    recall  f1-score   support\n",
      "\n",
      "           0       0.90      0.61      0.72       199\n",
      "           1       0.96      0.99      0.98      1922\n",
      "\n",
      "    accuracy                           0.96      2121\n",
      "   macro avg       0.93      0.80      0.85      2121\n",
      "weighted avg       0.95      0.96      0.95      2121\n",
      "\n",
      "              precision    recall  f1-score   support\n",
      "\n",
      "           0       0.84      0.55      0.67       166\n",
      "           1       0.96      0.99      0.98      1955\n",
      "\n",
      "    accuracy                           0.96      2121\n",
      "   macro avg       0.90      0.77      0.82      2121\n",
      "weighted avg       0.95      0.96      0.95      2121\n",
      "\n",
      "              precision    recall  f1-score   support\n",
      "\n",
      "           0       0.88      0.62      0.73       173\n",
      "           1       0.97      0.99      0.98      1948\n",
      "\n",
      "    accuracy                           0.96      2121\n",
      "   macro avg       0.93      0.81      0.85      2121\n",
      "weighted avg       0.96      0.96      0.96      2121\n",
      "\n",
      "              precision    recall  f1-score   support\n",
      "\n",
      "           0       0.88      0.59      0.71       196\n",
      "           1       0.96      0.99      0.98      1925\n",
      "\n",
      "    accuracy                           0.95      2121\n",
      "   macro avg       0.92      0.79      0.84      2121\n",
      "weighted avg       0.95      0.95      0.95      2121\n",
      "\n",
      "              precision    recall  f1-score   support\n",
      "\n",
      "           0       0.88      0.63      0.74       176\n",
      "           1       0.97      0.99      0.98      1945\n",
      "\n",
      "    accuracy                           0.96      2121\n",
      "   macro avg       0.92      0.81      0.86      2121\n",
      "weighted avg       0.96      0.96      0.96      2121\n",
      "\n",
      "              precision    recall  f1-score   support\n",
      "\n",
      "           0       0.86      0.62      0.72       174\n",
      "           1       0.97      0.99      0.98      1947\n",
      "\n",
      "    accuracy                           0.96      2121\n",
      "   macro avg       0.92      0.81      0.85      2121\n",
      "weighted avg       0.96      0.96      0.96      2121\n",
      "\n",
      "              precision    recall  f1-score   support\n",
      "\n",
      "           0       0.88      0.61      0.72       183\n",
      "           1       0.96      0.99      0.98      1938\n",
      "\n",
      "    accuracy                           0.96      2121\n",
      "   macro avg       0.92      0.80      0.85      2121\n",
      "weighted avg       0.96      0.96      0.96      2121\n",
      "\n",
      "              precision    recall  f1-score   support\n",
      "\n",
      "           0       0.85      0.60      0.70       181\n",
      "           1       0.96      0.99      0.98      1940\n",
      "\n",
      "    accuracy                           0.96      2121\n",
      "   macro avg       0.91      0.79      0.84      2121\n",
      "weighted avg       0.95      0.96      0.95      2121\n",
      "\n",
      "              precision    recall  f1-score   support\n",
      "\n",
      "           0       0.85      0.64      0.73       184\n",
      "           1       0.97      0.99      0.98      1937\n",
      "\n",
      "    accuracy                           0.96      2121\n",
      "   macro avg       0.91      0.81      0.85      2121\n",
      "weighted avg       0.96      0.96      0.96      2121\n",
      "\n",
      "              precision    recall  f1-score   support\n",
      "\n",
      "           0       0.89      0.63      0.74       164\n",
      "           1       0.97      0.99      0.98      1957\n",
      "\n",
      "    accuracy                           0.97      2121\n",
      "   macro avg       0.93      0.81      0.86      2121\n",
      "weighted avg       0.96      0.97      0.96      2121\n",
      "\n",
      "              precision    recall  f1-score   support\n",
      "\n",
      "           0       0.00      0.00      0.00         1\n",
      "           1       0.75      1.00      0.86         3\n",
      "\n",
      "    accuracy                           0.75         4\n",
      "   macro avg       0.38      0.50      0.43         4\n",
      "weighted avg       0.56      0.75      0.64         4\n",
      "\n"
     ]
    },
    {
     "name": "stderr",
     "output_type": "stream",
     "text": [
      "C:\\Users\\LAB\\Anaconda3\\lib\\site-packages\\sklearn\\metrics\\_classification.py:1245: UndefinedMetricWarning: Precision and F-score are ill-defined and being set to 0.0 in labels with no predicted samples. Use `zero_division` parameter to control this behavior.\n",
      "  _warn_prf(average, modifier, msg_start, len(result))\n",
      "C:\\Users\\LAB\\Anaconda3\\lib\\site-packages\\sklearn\\metrics\\_classification.py:1245: UndefinedMetricWarning: Precision and F-score are ill-defined and being set to 0.0 in labels with no predicted samples. Use `zero_division` parameter to control this behavior.\n",
      "  _warn_prf(average, modifier, msg_start, len(result))\n",
      "C:\\Users\\LAB\\Anaconda3\\lib\\site-packages\\sklearn\\metrics\\_classification.py:1245: UndefinedMetricWarning: Precision and F-score are ill-defined and being set to 0.0 in labels with no predicted samples. Use `zero_division` parameter to control this behavior.\n",
      "  _warn_prf(average, modifier, msg_start, len(result))\n"
     ]
    }
   ],
   "source": [
    "from sklearn.metrics import classification_report\n",
    "label_list=[]\n",
    "true_list=[]\n",
    "for batch in test_dataloader:\n",
    "    x, y = batch\n",
    "    logit = model(x)\n",
    "    y = y.detach().numpy()\n",
    "    logit = logit.detach().numpy()\n",
    "    logit = np.where(logit <= 0.5, 0, logit)\n",
    "    logit = np.where(logit > 0.5, 1, logit)\n",
    "    logit= logit.squeeze()\n",
    "    label_list.append(logit)\n",
    "    true_list.append(y)\n",
    "    print(classification_report(y_true = y, y_pred = logit))"
   ]
  },
  {
   "cell_type": "code",
   "execution_count": 16,
   "metadata": {},
   "outputs": [],
   "source": [
    "torch.save(model, 'model_SN.pt')"
   ]
  },
  {
   "cell_type": "code",
   "execution_count": null,
   "metadata": {},
   "outputs": [],
   "source": [
    "label_array=(np.array(label_list))\n",
    "import pickle\n",
    "\n",
    "with open('SN_test.pkl','wb') as f:\n",
    "    pickle.dump(label_array, f)"
   ]
  },
  {
   "cell_type": "code",
   "execution_count": null,
   "metadata": {},
   "outputs": [],
   "source": [
    "true_array=(np.array(true_list))\n",
    "with open('SN_test_label.pkl','wb') as f:\n",
    "    pickle.dump(true_array, f)"
   ]
  }
 ],
 "metadata": {
  "colab": {
   "authorship_tag": "ABX9TyP9YxmsbTsIFIQD9t16RaM6",
   "collapsed_sections": [],
   "mount_file_id": "1PKsmZcofLS4MLcFBwh1MmAXkRE4KVw3f",
   "name": "Untitled0.ipynb",
   "provenance": []
  },
  "kernelspec": {
   "display_name": "Python 3",
   "language": "python",
   "name": "python3"
  },
  "language_info": {
   "codemirror_mode": {
    "name": "ipython",
    "version": 3
   },
   "file_extension": ".py",
   "mimetype": "text/x-python",
   "name": "python",
   "nbconvert_exporter": "python",
   "pygments_lexer": "ipython3",
   "version": "3.8.8"
  }
 },
 "nbformat": 4,
 "nbformat_minor": 1
}
