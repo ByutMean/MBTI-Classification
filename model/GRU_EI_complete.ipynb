{
 "cells": [
  {
   "cell_type": "code",
   "execution_count": null,
   "metadata": {
    "colab": {
     "base_uri": "https://localhost:8080/"
    },
    "executionInfo": {
     "elapsed": 10281,
     "status": "ok",
     "timestamp": 1653490112696,
     "user": {
      "displayName": "박재민, ITM전공(학부)",
      "userId": "16505836461336102469"
     },
     "user_tz": -540
    },
    "id": "Q4AdPC8qvmz-",
    "outputId": "97ab96e7-cbe0-43a5-f338-256ad64f8281"
   },
   "outputs": [
    {
     "name": "stdout",
     "output_type": "stream",
     "text": [
      "Drive already mounted at /content/drive; to attempt to forcibly remount, call drive.mount(\"/content/drive\", force_remount=True).\n"
     ]
    }
   ],
   "source": [
    "from google.colab import drive\n",
    "drive.mount('/content/drive')"
   ]
  },
  {
   "cell_type": "code",
   "execution_count": 1,
   "metadata": {
    "colab": {
     "base_uri": "https://localhost:8080/"
    },
    "executionInfo": {
     "elapsed": 7961,
     "status": "ok",
     "timestamp": 1653531795136,
     "user": {
      "displayName": "박재민, ITM전공(학부)",
      "userId": "16505836461336102469"
     },
     "user_tz": -540
    },
    "id": "ycybIl3AkDt8",
    "outputId": "b49a70fe-ac97-42a6-f4c2-c6fd6ff4df32"
   },
   "outputs": [
    {
     "name": "stdout",
     "output_type": "stream",
     "text": [
      "cpu와 cuda 중 다음 기기로 학습함: cpu\n"
     ]
    }
   ],
   "source": [
    "import os\n",
    "import torch\n",
    "import torch.nn as nn\n",
    "import torch.nn.functional as F\n",
    "import random\n",
    "import pandas as pd\n",
    "\n",
    "\n",
    "EI_df = pd.read_csv('./MBTI_EI.csv')\n",
    "#PJ_df = pd.read_csv('/content/drive/MyDrive/4-1/인공신경망과 딥러닝/팀플/dataset/MBTI_PJ.csv')\n",
    "#SN_df = pd.read_csv('/content/drive/MyDrive/4-1/인공신경망과 딥러닝/팀플/dataset/MBTI_SN.csv')\n",
    "#TF_df = pd.read_csv('/content/drive/MyDrive/4-1/인공신경망과 딥러닝/팀플/dataset/MBTI_TF.csv')\n",
    "EI_df.head(10)\n",
    "\n",
    "\n",
    "SEED = 5\n",
    "random.seed(SEED)\n",
    "torch.manual_seed(SEED)\n",
    "\n",
    "BATCH_SIZE = 64\n",
    "lr = 0.001\n",
    "EPOCHS = 10\n",
    "\n",
    "USE_CUDA = torch.cuda.is_available()\n",
    "DEVICE = torch.device(\"cuda\" if USE_CUDA else \"cpu\")\n",
    "print(\"cpu와 cuda 중 다음 기기로 학습함:\", DEVICE)"
   ]
  },
  {
   "cell_type": "code",
   "execution_count": 19,
   "metadata": {
    "executionInfo": {
     "elapsed": 38907,
     "status": "ok",
     "timestamp": 1653531836098,
     "user": {
      "displayName": "박재민, ITM전공(학부)",
      "userId": "16505836461336102469"
     },
     "user_tz": -540
    },
    "id": "3pczUtRawQ7G"
   },
   "outputs": [],
   "source": [
    "from sklearn.model_selection import train_test_split\n",
    "\n",
    "value_list=[]\n",
    "for i in EI_df.wordvalue:\n",
    "    ss=i.strip(\"'[\").strip(\"]'\").split(\", \")\n",
    "    sss=[]\n",
    "    for j in ss:\n",
    "        sss.append(int(j))\n",
    "    value_list.append(sss)\n",
    "\n",
    "X = torch.tensor(value_list)\n",
    "y = torch.tensor(EI_df['type'].values)\n",
    "\n",
    "X_train, X_test, y_train, y_test = train_test_split(X, y, test_size = 0.4, random_state=42)\n",
    "X_val, X_test, y_val, y_test = train_test_split(X_test, y_test, test_size = 0.5, random_state=42)"
   ]
  },
  {
   "cell_type": "code",
   "execution_count": 18,
   "metadata": {},
   "outputs": [
    {
     "data": {
      "text/plain": [
       "Text(0.5, 1.0, 'Count of types')"
      ]
     },
     "execution_count": 18,
     "metadata": {},
     "output_type": "execute_result"
    },
    {
     "data": {
      "image/png": "[encoded data removed]",
      "text/plain": [
       "<Figure size 648x360 with 1 Axes>"
      ]
     },
     "metadata": {
      "needs_background": "light"
     },
     "output_type": "display_data"
    }
   ],
   "source": [
    "import numpy as np\n",
    "import matplotlib.pyplot as plt\n",
    "\n",
    "unique_labels, count = np.unique(EI_df['type'], return_counts=True)\n",
    "fig = plt.figure(figsize=(9,5))\n",
    "plt.xticks(np.arange(0,2,1))\n",
    "plt.bar(unique_labels, count, width=0.8)\n",
    "plt.title(\"Count of types\")"
   ]
  },
  {
   "cell_type": "code",
   "execution_count": 30,
   "metadata": {
    "executionInfo": {
     "elapsed": 422,
     "status": "ok",
     "timestamp": 1653531840083,
     "user": {
      "displayName": "박재민, ITM전공(학부)",
      "userId": "16505836461336102469"
     },
     "user_tz": -540
    },
    "id": "JOwlF1C-eObs"
   },
   "outputs": [],
   "source": [
    "from torch.utils.data import TensorDataset # 텐서데이터셋\n",
    "from torch.utils.data import DataLoader # 데이터로더\n",
    "\n",
    "train_dataset = TensorDataset(X_train, y_train)\n",
    "train_dataloader = DataLoader(train_dataset, batch_size=BATCH_SIZE,  shuffle=True)\n",
    "\n",
    "val_dataset = TensorDataset(X_val, y_val)\n",
    "val_dataloader = DataLoader(val_dataset, batch_size=BATCH_SIZE,  shuffle=True)\n",
    "\n",
    "test_dataset = TensorDataset(X_test, y_test)\n",
    "test_dataloader = DataLoader(test_dataset, batch_size=int(X_test.size()[0]/10),  shuffle=True)"
   ]
  },
  {
   "cell_type": "code",
   "execution_count": 4,
   "metadata": {
    "executionInfo": {
     "elapsed": 480,
     "status": "ok",
     "timestamp": 1653531843675,
     "user": {
      "displayName": "박재민, ITM전공(학부)",
      "userId": "16505836461336102469"
     },
     "user_tz": -540
    },
    "id": "yRFhMbclGQ0a"
   },
   "outputs": [],
   "source": [
    "class GRU(nn.Module):\n",
    "    def __init__(self, input_dim, embedding_dim, hidden_dim, output_dim,dropout_p):\n",
    "        super(GRU, self).__init__()\n",
    "        self.n_layers = 1\n",
    "        self.embedding = nn.Embedding(input_dim, embedding_dim)\n",
    "        self.dropout = nn.Dropout(dropout_p)\n",
    "        self.gru = nn.GRU(embedding_dim, hidden_dim,\n",
    "                          batch_first=True)\n",
    "        self.out = nn.Linear(hidden_dim, output_dim)\n",
    "        self.hidden_dim = hidden_dim\n",
    "        self.sigmoid = nn.Sigmoid()\n",
    "\n",
    "    def forward(self, x):\n",
    "\n",
    "        x = self.embedding(x)\n",
    "\n",
    "        h_0 = self._init_state(batch_size=x.size(0)) # 첫번째 히든 스테이트를 0벡터로 초기화\n",
    "\n",
    "        x, _ = self.gru(x, h_0)  # GRU의 리턴값은 (배치 크기, 시퀀스 길이, 은닉 상태의 크기)\n",
    "\n",
    "        h_t = x[:,-1,:] # (배치 크기, 은닉 상태의 크기)의 텐서로 크기가 변경됨. 즉, 마지막 time-step의 은닉 상태만 가져온다.\n",
    "        self.dropout(h_t)\n",
    "        logit = self.out(h_t)  # (배치 크기, 은닉 상태의 크기) -> (배치 크기, 출력층의 크기)\n",
    "        return self.sigmoid(logit)\n",
    "\n",
    "    def _init_state(self, batch_size=1):\n",
    "        weight = next(self.parameters()).data\n",
    "        return weight.new(self.n_layers, batch_size, self.hidden_dim).zero_()\n"
   ]
  },
  {
   "cell_type": "code",
   "execution_count": 14,
   "metadata": {
    "executionInfo": {
     "elapsed": 413,
     "status": "ok",
     "timestamp": 1653531847312,
     "user": {
      "displayName": "박재민, ITM전공(학부)",
      "userId": "16505836461336102469"
     },
     "user_tz": -540
    },
    "id": "QKDkh3MsKhNb"
   },
   "outputs": [],
   "source": [
    "INPUT_DIM = 3771 \n",
    "EMBEDDING_DIM = 100\n",
    "HIDDEN_DIM = 256\n",
    "OUTPUT_DIM = 1\n",
    "DROPOUT_PROB = 0.2\n",
    "\n",
    "model = GRU(INPUT_DIM, EMBEDDING_DIM, HIDDEN_DIM, OUTPUT_DIM, DROPOUT_PROB)\n",
    "optimizer = torch.optim.Adam(model.parameters(), lr=lr)\n",
    "\n"
   ]
  },
  {
   "cell_type": "code",
   "execution_count": 12,
   "metadata": {
    "executionInfo": {
     "elapsed": 420,
     "status": "ok",
     "timestamp": 1653531950865,
     "user": {
      "displayName": "박재민, ITM전공(학부)",
      "userId": "16505836461336102469"
     },
     "user_tz": -540
    },
    "id": "RELxwEPtKk6k"
   },
   "outputs": [],
   "source": [
    "def binary_accuracy(preds, y):\n",
    "\n",
    "  rounded_preds = torch.round(torch.sigmoid(preds))\n",
    "  # rounded_preds : [batch size]\n",
    "  # y : batch.label\n",
    "  correct = (rounded_preds == y).float() ## 여기 argmax 바꼈습니다\n",
    "  acc = correct.sum() / len(correct)\n",
    "  return acc\n",
    "\n",
    "def train(model, optimizer, train_iter):\n",
    "    model.train()\n",
    "    for b, batch in enumerate(train_iter):\n",
    "        x, y = batch\n",
    "        optimizer.zero_grad()\n",
    "        y = y.squeeze(0)\n",
    "        logit = model(x)\n",
    "        y = y.unsqueeze(1)\n",
    "        #loss = F.cross_entropy(logit, y)\n",
    "        loss = F.binary_cross_entropy(logit,y.float())\n",
    "        loss.backward()\n",
    "        if(b%100==0):\n",
    "          print(\"batch-\", b, \" loss-\" , loss.item())\n",
    "        optimizer.step()\n",
    "\n",
    "\n",
    "def evaluate(model, val_iter):\n",
    "    \"\"\"evaluate model\"\"\"\n",
    "    model.eval()\n",
    "    corrects, total_loss = 0, 0\n",
    "    for batch in val_iter:\n",
    "        x, y = batch\n",
    "        y = y.squeeze(0)\n",
    "        logit = model(x)\n",
    "        y = y.unsqueeze(1)\n",
    "        #loss = F.cross_entropy(logit, y, reduction='sum')\n",
    "        loss = F.binary_cross_entropy(logit,y.float())\n",
    "        total_loss += loss.item()\n",
    "        corrects +=  binary_accuracy(logit, y.float())\n",
    "    size = len(val_iter.dataset)\n",
    "    avg_loss = total_loss / size\n",
    "    avg_accuracy = 100.0 * corrects / size\n",
    "    return avg_loss, avg_accuracy"
   ]
  },
  {
   "cell_type": "code",
   "execution_count": 15,
   "metadata": {
    "colab": {
     "base_uri": "https://localhost:8080/"
    },
    "id": "UXG_XTghKsLc",
    "outputId": "30ea532a-db51-426a-aff6-115f5cd4bcf6"
   },
   "outputs": [
    {
     "name": "stdout",
     "output_type": "stream",
     "text": [
      "batch- 0  loss- 0.6645011305809021\n",
      "batch- 100  loss- 0.64072185754776\n",
      "batch- 200  loss- 0.5090731978416443\n",
      "batch- 300  loss- 0.447407603263855\n",
      "batch- 400  loss- 0.5296565890312195\n",
      "batch- 500  loss- 0.4952526390552521\n",
      "batch- 600  loss- 0.5146457552909851\n",
      "batch- 700  loss- 0.4188653230667114\n",
      "batch- 800  loss- 0.281338095664978\n",
      "batch- 900  loss- 0.3870295286178589\n",
      "[Epoch: 1] val loss :  0.01 | val accuracy :  1.19\n",
      "Epoch: 01 | Epoch Time: 21m 31s\n",
      "batch- 0  loss- 0.3840990662574768\n",
      "batch- 100  loss- 0.3191991448402405\n",
      "batch- 200  loss- 0.34362655878067017\n",
      "batch- 300  loss- 0.46719276905059814\n",
      "batch- 400  loss- 0.28653818368911743\n",
      "batch- 500  loss- 0.30353274941444397\n",
      "batch- 600  loss- 0.19136667251586914\n",
      "batch- 700  loss- 0.332255095243454\n",
      "batch- 800  loss- 0.27007678151130676\n",
      "batch- 900  loss- 0.2608950436115265\n",
      "[Epoch: 2] val loss :  0.00 | val accuracy :  1.19\n",
      "Epoch: 02 | Epoch Time: 15m 26s\n",
      "batch- 0  loss- 0.17272493243217468\n",
      "batch- 100  loss- 0.17565029859542847\n",
      "batch- 200  loss- 0.2668984532356262\n",
      "batch- 300  loss- 0.24416345357894897\n",
      "batch- 400  loss- 0.1361008882522583\n",
      "batch- 500  loss- 0.24119029939174652\n",
      "batch- 600  loss- 0.2483671009540558\n",
      "batch- 700  loss- 0.1568906456232071\n",
      "batch- 800  loss- 0.20762169361114502\n",
      "batch- 900  loss- 0.15174366533756256\n",
      "[Epoch: 3] val loss :  0.00 | val accuracy :  1.19\n",
      "Epoch: 03 | Epoch Time: 15m 25s\n",
      "batch- 0  loss- 0.25420594215393066\n",
      "batch- 100  loss- 0.2972729802131653\n",
      "batch- 200  loss- 0.19065438210964203\n",
      "batch- 300  loss- 0.15384738147258759\n",
      "batch- 400  loss- 0.14376847445964813\n",
      "batch- 500  loss- 0.22241032123565674\n",
      "batch- 600  loss- 0.1723150759935379\n",
      "batch- 700  loss- 0.151689812541008\n",
      "batch- 800  loss- 0.17705942690372467\n",
      "batch- 900  loss- 0.17344197630882263\n",
      "[Epoch: 4] val loss :  0.00 | val accuracy :  1.19\n",
      "Epoch: 04 | Epoch Time: 15m 22s\n",
      "batch- 0  loss- 0.23459933698177338\n",
      "batch- 100  loss- 0.21537798643112183\n",
      "batch- 200  loss- 0.059743430465459824\n",
      "batch- 300  loss- 0.0508364699780941\n",
      "batch- 400  loss- 0.029562650248408318\n",
      "batch- 500  loss- 0.09070776402950287\n",
      "batch- 600  loss- 0.2288731336593628\n",
      "batch- 700  loss- 0.17099608480930328\n",
      "batch- 800  loss- 0.24947218596935272\n",
      "batch- 900  loss- 0.18387967348098755\n",
      "[Epoch: 5] val loss :  0.00 | val accuracy :  1.19\n",
      "Epoch: 05 | Epoch Time: 15m 25s\n"
     ]
    }
   ],
   "source": [
    "import time\n",
    "def epoch_time(start_time, end_time):\n",
    "  elapsed_time = end_time - start_time\n",
    "  elapsed_mins = int(elapsed_time / 60)\n",
    "  elapsed_secs = int(elapsed_time - (elapsed_mins * 60))\n",
    "  return elapsed_mins, elapsed_secs\n",
    "\n",
    "best_val_loss = None\n",
    "for e in range(1, 6):\n",
    "\n",
    "    start_time = time.time()\n",
    "    \n",
    "\n",
    "    train(model, optimizer, train_dataloader)\n",
    "    val_loss, val_accuracy = evaluate(model, val_dataloader)\n",
    "\n",
    "    end_time = time.time()\n",
    "    epoch_mins, epoch_secs = epoch_time(start_time, end_time)\n",
    "\n",
    "    print(\"[Epoch: %d] val loss : %5.2f | val accuracy : %5.2f\" % (e, val_loss, val_accuracy))\n",
    "    print(f'Epoch: {e:02} | Epoch Time: {epoch_mins}m {epoch_secs}s')\n",
    "\n",
    "    # 검증 오차가 가장 적은 최적의 모델을 저장\n",
    "    if not best_val_loss or val_loss < best_val_loss:\n",
    "        if not os.path.isdir(\"snapshot\"):\n",
    "            os.makedirs(\"snapshot\")\n",
    "        torch.save(model.state_dict(), './snapshot/txtclassification.pt')\n",
    "        best_val_loss = val_loss\n",
    "\n",
    "best_valid_loss = float('inf')\n"
   ]
  },
  {
   "cell_type": "code",
   "execution_count": 23,
   "metadata": {},
   "outputs": [
    {
     "data": {
      "image/png": "[encoded data removed]",
      "text/plain": [
       "<Figure size 432x288 with 1 Axes>"
      ]
     },
     "metadata": {
      "needs_background": "light"
     },
     "output_type": "display_data"
    },
    {
     "data": {
      "text/plain": [
       "[<matplotlib.lines.Line2D at 0x25e3d7158b0>]"
      ]
     },
     "execution_count": 23,
     "metadata": {},
     "output_type": "execute_result"
    },
    {
     "data": {
      "image/png": "[encoded data removed]",
      "text/plain": [
       "<Figure size 432x288 with 1 Axes>"
      ]
     },
     "metadata": {
      "needs_background": "light"
     },
     "output_type": "display_data"
    }
   ],
   "source": [
    "from scipy.ndimage import gaussian_filter1d\n",
    "\n",
    "a = np.array(loss_list[0::100])\n",
    "a = a.astype(float)\n",
    "y_smoothed = gaussian_filter1d(a, sigma=5)\n",
    "plt.plot(np.arange(50),y_smoothed)"
   ]
  },
  {
   "cell_type": "code",
   "execution_count": 1,
   "metadata": {},
   "outputs": [
    {
     "ename": "NameError",
     "evalue": "name 'torch' is not defined",
     "output_type": "error",
     "traceback": [
      "\u001b[1;31m---------------------------------------------------------------------------\u001b[0m",
      "\u001b[1;31mNameError\u001b[0m                                 Traceback (most recent call last)",
      "\u001b[1;32m<ipython-input-1-c5c9ee137a67>\u001b[0m in \u001b[0;36m<module>\u001b[1;34m\u001b[0m\n\u001b[1;32m----> 1\u001b[1;33m \u001b[0mtorch\u001b[0m\u001b[1;33m.\u001b[0m\u001b[0msave\u001b[0m\u001b[1;33m(\u001b[0m\u001b[0mmodel\u001b[0m\u001b[1;33m,\u001b[0m \u001b[1;34m'model_EI.pt'\u001b[0m\u001b[1;33m)\u001b[0m\u001b[1;33m\u001b[0m\u001b[1;33m\u001b[0m\u001b[0m\n\u001b[0m",
      "\u001b[1;31mNameError\u001b[0m: name 'torch' is not defined"
     ]
    }
   ],
   "source": [
    "torch.save(model, 'model_EI.pt')"
   ]
  },
  {
   "cell_type": "code",
   "execution_count": null,
   "metadata": {},
   "outputs": [],
   "source": [
    "test_model=torch.load(r'C:\\Users\\BM\\Desktop\\수업\\2022-1\\딥러닝\\팀플\\모델\\model_EI.pt')"
   ]
  },
  {
   "cell_type": "code",
   "execution_count": null,
   "metadata": {},
   "outputs": [],
   "source": [
    "from sklearn.metrics import classification_report\n",
    "label_list=[]\n",
    "true_list=[]\n",
    "for batch in test_dataloader:\n",
    "    x, y = batch\n",
    "    logit = test_model(x)\n",
    "    \n",
    "    y = y.detach().numpy()\n",
    "    logit = logit.detach().numpy()\n",
    "    logit = np.where(logit <= 0.5, 0, logit)\n",
    "    logit = np.where(logit > 0.5, 1, logit)\n",
    "    logit= logit.squeeze()\n",
    "    label_list.append(logit)\n",
    "    true_list.append(y)\n"
   ]
  },
  {
   "cell_type": "code",
   "execution_count": null,
   "metadata": {},
   "outputs": [],
   "source": [
    "\n",
    "import pickle\n",
    "label_array=(np.array(label_list))\n",
    "with open('EI_test.pkl','wb') as f:\n",
    "    pickle.dump(label_array, f)"
   ]
  },
  {
   "cell_type": "code",
   "execution_count": null,
   "metadata": {},
   "outputs": [],
   "source": [
    "true_array=(np.array(true_list))\n",
    "with open('EI_test_label.pkl','wb') as f:\n",
    "    pickle.dump(true_array, f)"
   ]
  }
 ],
 "metadata": {
  "colab": {
   "authorship_tag": "ABX9TyP9YxmsbTsIFIQD9t16RaM6",
   "collapsed_sections": [],
   "mount_file_id": "1PKsmZcofLS4MLcFBwh1MmAXkRE4KVw3f",
   "name": "Untitled0.ipynb",
   "provenance": []
  },
  "kernelspec": {
   "display_name": "Python 3",
   "language": "python",
   "name": "python3"
  },
  "language_info": {
   "codemirror_mode": {
    "name": "ipython",
    "version": 3
   },
   "file_extension": ".py",
   "mimetype": "text/x-python",
   "name": "python",
   "nbconvert_exporter": "python",
   "pygments_lexer": "ipython3",
   "version": "3.8.8"
  }
 },
 "nbformat": 4,
 "nbformat_minor": 1
}
