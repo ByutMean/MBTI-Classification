{
 "cells": [
  {
   "cell_type": "code",
   "execution_count": 15,
   "metadata": {},
   "outputs": [],
   "source": [
    "import pandas as pd\n",
    "df_EI=pd.read_csv('MBTI_EI.csv',index_col=0)\n",
    "df_SN=pd.read_csv('MBTI_SN.csv',index_col=0)\n",
    "df_TF=pd.read_csv('MBTI_TF.csv',index_col=0)\n",
    "df_PJ=pd.read_csv('MBTI_PJ.csv',index_col=0)\n",
    "\n"
   ]
  },
  {
   "cell_type": "code",
   "execution_count": 18,
   "metadata": {},
   "outputs": [],
   "source": [
    "df_all=pd.read_csv('MBTI_ALL.csv',index_col=0)\n",
    "df_raw=pd.read_csv('MBTI 500.csv')"
   ]
  },
  {
   "cell_type": "code",
   "execution_count": 2,
   "metadata": {},
   "outputs": [
    {
     "ename": "NameError",
     "evalue": "name 'df_raw' is not defined",
     "output_type": "error",
     "traceback": [
      "\u001b[1;31m---------------------------------------------------------------------------\u001b[0m",
      "\u001b[1;31mNameError\u001b[0m                                 Traceback (most recent call last)",
      "\u001b[1;32m~\\AppData\\Local\\Temp\\ipykernel_9280\\2514460559.py\u001b[0m in \u001b[0;36m<module>\u001b[1;34m\u001b[0m\n\u001b[0;32m      2\u001b[0m \u001b[1;33m\u001b[0m\u001b[0m\n\u001b[0;32m      3\u001b[0m \u001b[1;32mwith\u001b[0m \u001b[0mopen\u001b[0m\u001b[1;33m(\u001b[0m\u001b[1;34m'MBTI500.pkl'\u001b[0m\u001b[1;33m,\u001b[0m\u001b[1;34m'wb'\u001b[0m\u001b[1;33m)\u001b[0m \u001b[1;32mas\u001b[0m \u001b[0mf\u001b[0m\u001b[1;33m:\u001b[0m\u001b[1;33m\u001b[0m\u001b[1;33m\u001b[0m\u001b[0m\n\u001b[1;32m----> 4\u001b[1;33m     \u001b[0mpickle\u001b[0m\u001b[1;33m.\u001b[0m\u001b[0mdump\u001b[0m\u001b[1;33m(\u001b[0m\u001b[0mdf_raw\u001b[0m\u001b[1;33m,\u001b[0m \u001b[0mf\u001b[0m\u001b[1;33m)\u001b[0m\u001b[1;33m\u001b[0m\u001b[1;33m\u001b[0m\u001b[0m\n\u001b[0m\u001b[0;32m      5\u001b[0m \u001b[1;33m\u001b[0m\u001b[0m\n\u001b[0;32m      6\u001b[0m \u001b[1;32mwith\u001b[0m \u001b[0mopen\u001b[0m\u001b[1;33m(\u001b[0m\u001b[1;34m'MBTI_EI.pkl'\u001b[0m\u001b[1;33m,\u001b[0m\u001b[1;34m'wb'\u001b[0m\u001b[1;33m)\u001b[0m \u001b[1;32mas\u001b[0m \u001b[0mf\u001b[0m\u001b[1;33m:\u001b[0m\u001b[1;33m\u001b[0m\u001b[1;33m\u001b[0m\u001b[0m\n",
      "\u001b[1;31mNameError\u001b[0m: name 'df_raw' is not defined"
     ]
    }
   ],
   "source": [
    "import pickle\n",
    "\n",
    "with open('MBTI500.pkl','wb') as f:\n",
    "    pickle.dump(df_raw, f)\n",
    "\n",
    "with open('MBTI_EI.pkl','wb') as f:\n",
    "    pickle.dump(df_EI, f)\n",
    "\n",
    "with open('MBTI_SN.pkl','wb') as f:\n",
    "    pickle.dump(df_SN, f)\n",
    "\n",
    "with open('MBTI_TF.pkl','wb') as f:\n",
    "    pickle.dump(df_TF, f)\n",
    "\n",
    "with open('MBTI_PJ.pkl','wb') as f:\n",
    "    pickle.dump(df_PJ, f)"
   ]
  },
  {
   "cell_type": "code",
   "execution_count": null,
   "metadata": {},
   "outputs": [],
   "source": []
  },
  {
   "cell_type": "code",
   "execution_count": 1,
   "metadata": {},
   "outputs": [],
   "source": [
    "import pickle\n",
    "import numpy as np\n",
    "EI = np.load('EI_test.pkl',allow_pickle=True)\n",
    "SN = np.load('SN_test.pkl',allow_pickle=True)\n",
    "TF = np.load('TF_test.pkl',allow_pickle=True)\n",
    "PJ = np.load('PJ_test.pkl',allow_pickle=True)"
   ]
  },
  {
   "cell_type": "code",
   "execution_count": 2,
   "metadata": {},
   "outputs": [],
   "source": [
    "EI_all=np.concatenate(EI)\n",
    "SN_all=np.concatenate(SN)\n",
    "TF_all=np.concatenate(TF)\n",
    "PJ_all=np.concatenate(PJ)"
   ]
  },
  {
   "cell_type": "code",
   "execution_count": 4,
   "metadata": {},
   "outputs": [],
   "source": [
    "import pickle\n",
    "import numpy as np\n",
    "EI_label = np.load('EI_test_label.pkl',allow_pickle=True)\n",
    "SN_label = np.load('SN_test_label.pkl',allow_pickle=True)\n",
    "TF_label = np.load('TF_test_label.pkl',allow_pickle=True)\n",
    "PJ_label = np.load('PJ_test_label.pkl',allow_pickle=True)"
   ]
  },
  {
   "cell_type": "code",
   "execution_count": 5,
   "metadata": {},
   "outputs": [
    {
     "data": {
      "text/plain": [
       "array([array([0, 0, 0, ..., 1, 1, 0], dtype=int64),\n",
       "       array([0, 1, 0, ..., 0, 0, 1], dtype=int64),\n",
       "       array([1, 0, 1, ..., 0, 0, 1], dtype=int64),\n",
       "       array([1, 0, 1, ..., 0, 0, 1], dtype=int64),\n",
       "       array([0, 1, 1, ..., 0, 0, 0], dtype=int64),\n",
       "       array([0, 0, 0, ..., 0, 0, 0], dtype=int64),\n",
       "       array([0, 0, 0, ..., 1, 0, 0], dtype=int64),\n",
       "       array([1, 0, 0, ..., 1, 1, 0], dtype=int64),\n",
       "       array([1, 1, 1, ..., 0, 0, 0], dtype=int64),\n",
       "       array([1, 1, 1, ..., 1, 0, 0], dtype=int64),\n",
       "       array([0, 1, 1, 0], dtype=int64)], dtype=object)"
      ]
     },
     "execution_count": 5,
     "metadata": {},
     "output_type": "execute_result"
    }
   ],
   "source": [
    "PJ_label"
   ]
  },
  {
   "cell_type": "code",
   "execution_count": 6,
   "metadata": {},
   "outputs": [],
   "source": [
    "EI_all_label=np.concatenate(EI_label)\n",
    "SN_all_label=np.concatenate(SN_label)\n",
    "TF_all_label=np.concatenate(TF_label)\n",
    "PJ_all_label=np.concatenate(PJ_label)"
   ]
  },
  {
   "cell_type": "code",
   "execution_count": 10,
   "metadata": {},
   "outputs": [
    {
     "data": {
      "text/plain": [
       "Counter({0: 12332, 1: 8882})"
      ]
     },
     "execution_count": 10,
     "metadata": {},
     "output_type": "execute_result"
    }
   ],
   "source": [
    "import collections\n",
    "collections.Counter(PJ_all_label)\n"
   ]
  },
  {
   "cell_type": "code",
   "execution_count": 5,
   "metadata": {},
   "outputs": [
    {
     "name": "stdout",
     "output_type": "stream",
     "text": [
      "              precision    recall  f1-score   support\n",
      "\n",
      "           0       0.85      0.90      0.88      5146\n",
      "           1       0.97      0.95      0.96     16068\n",
      "\n",
      "    accuracy                           0.94     21214\n",
      "   macro avg       0.91      0.93      0.92     21214\n",
      "weighted avg       0.94      0.94      0.94     21214\n",
      "\n"
     ]
    }
   ],
   "source": [
    "from sklearn.metrics import classification_report\n",
    "\n",
    "print(classification_report(y_pred=EI_all,y_true=EI_all_label))"
   ]
  },
  {
   "cell_type": "code",
   "execution_count": 6,
   "metadata": {},
   "outputs": [
    {
     "name": "stdout",
     "output_type": "stream",
     "text": [
      "              precision    recall  f1-score   support\n",
      "\n",
      "           0       0.96      0.79      0.86      1854\n",
      "           1       0.98      1.00      0.99     19360\n",
      "\n",
      "    accuracy                           0.98     21214\n",
      "   macro avg       0.97      0.89      0.93     21214\n",
      "weighted avg       0.98      0.98      0.98     21214\n",
      "\n"
     ]
    }
   ],
   "source": [
    "print(classification_report(y_pred=SN_all,y_true=SN_all_label))"
   ]
  },
  {
   "cell_type": "code",
   "execution_count": 7,
   "metadata": {},
   "outputs": [
    {
     "name": "stdout",
     "output_type": "stream",
     "text": [
      "              precision    recall  f1-score   support\n",
      "\n",
      "           0       0.93      0.98      0.95     13887\n",
      "           1       0.95      0.85      0.90      7327\n",
      "\n",
      "    accuracy                           0.93     21214\n",
      "   macro avg       0.94      0.92      0.93     21214\n",
      "weighted avg       0.94      0.93      0.93     21214\n",
      "\n"
     ]
    }
   ],
   "source": [
    "print(classification_report(y_pred=TF_all,y_true=TF_all_label))"
   ]
  },
  {
   "cell_type": "code",
   "execution_count": 8,
   "metadata": {},
   "outputs": [
    {
     "name": "stdout",
     "output_type": "stream",
     "text": [
      "              precision    recall  f1-score   support\n",
      "\n",
      "           0       0.94      0.94      0.94     12332\n",
      "           1       0.92      0.92      0.92      8882\n",
      "\n",
      "    accuracy                           0.93     21214\n",
      "   macro avg       0.93      0.93      0.93     21214\n",
      "weighted avg       0.93      0.93      0.93     21214\n",
      "\n"
     ]
    }
   ],
   "source": [
    "print(classification_report(y_pred=PJ_all,y_true=PJ_all_label))"
   ]
  },
  {
   "cell_type": "code",
   "execution_count": 9,
   "metadata": {},
   "outputs": [],
   "source": [
    "pred_all=[]\n",
    "for a,b,c,d in zip(EI_all,SN_all,TF_all,PJ_all):\n",
    "    pred_all.append([a,b,c,d])"
   ]
  },
  {
   "cell_type": "code",
   "execution_count": 10,
   "metadata": {},
   "outputs": [],
   "source": [
    "label_all=[]\n",
    "for a,b,c,d in zip(EI_all_label,SN_all_label,TF_all_label,PJ_all_label):\n",
    "    label_all.append([a,b,c,d])"
   ]
  },
  {
   "cell_type": "code",
   "execution_count": 11,
   "metadata": {},
   "outputs": [],
   "source": [
    "accuracy=[]\n",
    "for pred, label in zip(pred_all,label_all):\n",
    "    if pred == label:\n",
    "        accuracy.append(1)\n",
    "    else:\n",
    "        accuracy.append(0)"
   ]
  },
  {
   "cell_type": "code",
   "execution_count": 12,
   "metadata": {},
   "outputs": [
    {
     "data": {
      "text/plain": [
       "0.8085698123880456"
      ]
     },
     "execution_count": 12,
     "metadata": {},
     "output_type": "execute_result"
    }
   ],
   "source": [
    "np.array(accuracy).mean()"
   ]
  },
  {
   "cell_type": "code",
   "execution_count": 13,
   "metadata": {},
   "outputs": [
    {
     "data": {
      "text/plain": [
       "17153"
      ]
     },
     "execution_count": 13,
     "metadata": {},
     "output_type": "execute_result"
    }
   ],
   "source": [
    "accuracy.count(1)"
   ]
  },
  {
   "cell_type": "code",
   "execution_count": 14,
   "metadata": {},
   "outputs": [
    {
     "data": {
      "text/plain": [
       "4061"
      ]
     },
     "execution_count": 14,
     "metadata": {},
     "output_type": "execute_result"
    }
   ],
   "source": [
    "accuracy.count(0)"
   ]
  },
  {
   "cell_type": "code",
   "execution_count": null,
   "metadata": {},
   "outputs": [],
   "source": []
  }
 ],
 "metadata": {
  "interpreter": {
   "hash": "b5b6c29964a54481bf39f6ffe9d557dfca24c62cff62f9ed390ecdd8fcc325fd"
  },
  "kernelspec": {
   "display_name": "Python 3.7.13 ('pytorch_env')",
   "language": "python",
   "name": "python3"
  },
  "language_info": {
   "codemirror_mode": {
    "name": "ipython",
    "version": 3
   },
   "file_extension": ".py",
   "mimetype": "text/x-python",
   "name": "python",
   "nbconvert_exporter": "python",
   "pygments_lexer": "ipython3",
   "version": "3.7.13"
  },
  "orig_nbformat": 4
 },
 "nbformat": 4,
 "nbformat_minor": 2
}
